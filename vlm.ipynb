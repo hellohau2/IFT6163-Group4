{
 "cells": [
  {
   "cell_type": "code",
   "execution_count": null,
   "metadata": {},
   "outputs": [],
   "source": [
    "# !pip install torch torchvision --index-url https://download.pytorch.org/whl/cu121"
   ]
  },
  {
   "cell_type": "code",
   "execution_count": 1,
   "metadata": {},
   "outputs": [
    {
     "name": "stdout",
     "output_type": "stream",
     "text": [
      "2.5.1+cu121\n",
      "0.20.1+cu121\n"
     ]
    }
   ],
   "source": [
    "import torch\n",
    "import torchvision\n",
    "\n",
    "print(torch.__version__)\n",
    "print(torchvision.__version__)"
   ]
  },
  {
   "cell_type": "code",
   "execution_count": 17,
   "metadata": {},
   "outputs": [
    {
     "name": "stdout",
     "output_type": "stream",
     "text": [
      "Generated random target pos in 3 iterations\n",
      "Reward : 0.3864908218383789\n"
     ]
    },
    {
     "data": {
      "image/png": "[encoded data removed]",
      "text/plain": [
       "<Figure size 640x480 with 1 Axes>"
      ]
     },
     "metadata": {},
     "output_type": "display_data"
    }
   ],
   "source": [
    "import importlib\n",
    "import numpy as np\n",
    "import matplotlib.pyplot as plt\n",
    "\n",
    "import rx150_env \n",
    "importlib.reload(rx150_env)\n",
    "\n",
    "from rx150_env import RX150Env \n",
    "\n",
    "urdf_path = \"/interbotix_ros_manipulators/interbotix_ros_xsarms/interbotix_xsarm_descriptions/urdf/rx150.urdf\"\n",
    "\n",
    "# print(urdf_path)\n",
    "\n",
    "rx_env = RX150Env(urdf_path,headless=True,image_height=84,image_width=84)\n",
    "\n",
    "rx_env.reset()\n",
    "\n",
    "action = np.random.choice([-1,0,1], size=5)\n",
    "action = np.append(action,np.random.choice([0,1],size=1))\n",
    "\n",
    "for _ in range(200):\n",
    "    rx_env.step(action)\n",
    "\n",
    "rx_img = rx_env.render()\n",
    "\n",
    "rw,_ = rx_env.get_reward_and_terminal()\n",
    "print(f\"Reward : {rw}\")\n",
    "\n",
    "rx_env.close()\n",
    "\n",
    "plt.imshow(rx_img)\n",
    "plt.axis(\"off\")\n",
    "plt.show()"
   ]
  },
  {
   "cell_type": "code",
   "execution_count": 167,
   "metadata": {},
   "outputs": [
    {
     "name": "stdout",
     "output_type": "stream",
     "text": [
      "tensor([[0.3104],\n",
      "        [0.3134]])\n",
      "tensor([[31.0354, 31.3393]], grad_fn=<TBackward0>)\n"
     ]
    }
   ],
   "source": [
    "from transformers import CLIPProcessor, CLIPModel\n",
    "\n",
    "model = CLIPModel.from_pretrained(\"openai/clip-vit-base-patch32\")\n",
    "processor = CLIPProcessor.from_pretrained(\"openai/clip-vit-base-patch32\")\n",
    "\n",
    "inputs = processor(text=[\"A 3D model of a robot arm and a red dot with a blue end-effector. The robot arm's blue end effector is touching the red dot\",\"A 3D model of a robot arm and a red dot with a blue end-effector.\"], images=rx_img, return_tensors=\"pt\", padding=True)\n",
    "\n",
    "outputs = model(**inputs)\n",
    "logits_per_image = outputs.logits_per_image  # this is the image-text similarity score\n",
    "probs = logits_per_image.softmax(dim=1) \n",
    "\n",
    "with torch.no_grad():\n",
    "    text_features = model.get_text_features(**{k: inputs[k] for k in [\"input_ids\", \"attention_mask\"]})\n",
    "    image_features = model.get_image_features(**{k: inputs[k] for k in [\"pixel_values\"]})\n",
    "\n",
    "text_features = text_features / text_features.norm(dim=-1, keepdim=True)\n",
    "image_features = image_features / image_features.norm(dim=-1, keepdim=True)\n",
    "\n",
    "similarity_score = (text_features @ image_features.T) \n",
    "\n",
    "print(similarity_score)\n",
    "\n",
    "print(logits_per_image)\n",
    "# print(probs)"
   ]
  }
 ],
 "metadata": {
  "language_info": {
   "name": "python"
  }
 },
 "nbformat": 4,
 "nbformat_minor": 2
}
